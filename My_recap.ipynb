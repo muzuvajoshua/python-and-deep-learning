{
  "cells": [
    {
      "cell_type": "markdown",
      "metadata": {
        "id": "view-in-github",
        "colab_type": "text"
      },
      "source": [
        "<a href=\"https://colab.research.google.com/github/muzuvajoshua/python-and-deep-learning/blob/main/My_recap.ipynb\" target=\"_parent\"><img src=\"https://colab.research.google.com/assets/colab-badge.svg\" alt=\"Open In Colab\"/></a>"
      ]
    },
    {
      "cell_type": "markdown",
      "metadata": {
        "id": "96UgJeWLPpyG"
      },
      "source": [
        "\n",
        "\n",
        "```\n",
        "# This is formatted as code\n",
        "```\n",
        "\n",
        "# Week 1, Class 1: Python Vocabulary & Fundamentals"
      ]
    },
    {
      "cell_type": "markdown",
      "source": [
        "- 24/07/2023"
      ],
      "metadata": {
        "id": "o9O27CTbZMHv"
      }
    },
    {
      "cell_type": "markdown",
      "metadata": {
        "id": "6AZh3d2hPpyJ"
      },
      "source": [
        "## Topics"
      ]
    },
    {
      "cell_type": "markdown",
      "source": [
        "Hello this is a text cell\n"
      ],
      "metadata": {
        "id": "CJ_HeO8lfRzN"
      }
    },
    {
      "cell_type": "markdown",
      "metadata": {
        "ExecuteTime": {
          "end_time": "2020-03-04T22:48:55.304853Z",
          "start_time": "2020-03-04T22:48:55.299479Z"
        },
        "id": "jBulbLFXPpyJ"
      },
      "source": [
        "- Python Vocabulary\n"
      ]
    },
    {
      "cell_type": "markdown",
      "metadata": {
        "ExecuteTime": {
          "end_time": "2020-03-04T22:50:13.264632Z",
          "start_time": "2020-03-04T22:50:13.257093Z"
        },
        "id": "YVHOV5TXPpyN"
      },
      "source": [
        "# PYTHON VOCABULARY"
      ]
    },
    {
      "cell_type": "markdown",
      "source": [
        "## Basic Python Concepts"
      ],
      "metadata": {
        "id": "7kverhfnau2t"
      }
    },
    {
      "cell_type": "markdown",
      "source": [
        "### Variables"
      ],
      "metadata": {
        "id": "2HxceDLraP-u"
      }
    },
    {
      "cell_type": "markdown",
      "metadata": {
        "ExecuteTime": {
          "end_time": "2020-03-04T22:50:13.264632Z",
          "start_time": "2020-03-04T22:50:13.257093Z"
        },
        "id": "_1MI_PeNPpyN"
      },
      "source": [
        "- **Variable**:\n",
        "    - piece of data stored in memory under a specific name.\n",
        "\n",
        "- Variable Types:\n",
        "    - strings\n",
        "    - lists\n",
        "    - dictionaries\n",
        "    - tuples\n",
        "    - integers\n"
      ]
    },
    {
      "cell_type": "code",
      "source": [
        "print(\"My first line of code\")\n",
        "print(\"Hello World\")"
      ],
      "metadata": {
        "id": "C4eyzwfdgFZJ",
        "colab": {
          "base_uri": "https://localhost:8080/"
        },
        "outputId": "8ff00838-8a9f-43e9-9284-8cdcf5a54eba"
      },
      "execution_count": null,
      "outputs": [
        {
          "output_type": "stream",
          "name": "stdout",
          "text": [
            "My first line of code\n",
            "Hello World\n"
          ]
        }
      ]
    },
    {
      "cell_type": "code",
      "source": [
        "print('The name is Josh')"
      ],
      "metadata": {
        "id": "xNVJKIRRgU5F",
        "colab": {
          "base_uri": "https://localhost:8080/"
        },
        "outputId": "83e10c63-19bd-4fde-a453-da42f8142f52"
      },
      "execution_count": null,
      "outputs": [
        {
          "output_type": "stream",
          "name": "stdout",
          "text": [
            "The name is Josh\n"
          ]
        }
      ]
    },
    {
      "cell_type": "markdown",
      "source": [
        "#### Declaring variables and commenting <br>\n",
        "The syntax is: <br>\n",
        "variable_name = variable_value"
      ],
      "metadata": {
        "id": "4WsP8_oMXoxa"
      }
    },
    {
      "cell_type": "code",
      "source": [
        "#Adding 2 variables\n",
        "var1 = 2\n",
        "var2 = 5\n",
        "\n",
        "print(var1 + var2)"
      ],
      "metadata": {
        "id": "8S9_p_X0hj-O",
        "colab": {
          "base_uri": "https://localhost:8080/"
        },
        "outputId": "452ede54-9687-4b0f-f566-1b1f951268b7"
      },
      "execution_count": null,
      "outputs": [
        {
          "output_type": "stream",
          "name": "stdout",
          "text": [
            "7\n"
          ]
        }
      ]
    },
    {
      "cell_type": "code",
      "source": [
        "# Make a string variable\n",
        "\n",
        "str_var = \"This is a string\"\n",
        "bool_var = True\n",
        "int_var = 7327\n",
        "float_var = 6.99\n"
      ],
      "metadata": {
        "id": "w-yq6_3paE6b"
      },
      "execution_count": null,
      "outputs": []
    },
    {
      "cell_type": "markdown",
      "source": [
        "A variable can have a short name (like x and y) or a more descriptive name (age, carname, total_volume). Rules for Python variables:\n",
        "\n",
        "*   A variable name must start with a letter or the underscore character\n",
        "*   A variable name cannot start with a number\n",
        "*   A variable name can only contain alpha-numeric characters and underscores (A-z, 0-9, and _ )\n",
        "*   Variable names are case-sensitive (age, Age and AGE are three different variables)\n",
        "\n",
        "Adopted from [w3schools](https://www.w3schools.com/python/python_variables_names.asp)\n",
        "\n",
        "[Recommended further reading](https://www.w3schools.com/python/python_variables.asp): (assigning multiple values, global variables)\n",
        "\n",
        "\n"
      ],
      "metadata": {
        "id": "bkPTZz-lffVi"
      }
    },
    {
      "cell_type": "markdown",
      "source": [
        "#### Commenting <br>\n",
        "\n",
        "Python supports both single-line(block) and multi-line comments.<br>\n",
        "A single-line comment starts with the # symbol and multiple-line(docstrings) comments can be wrapped in tripple quotes (\" \" \")"
      ],
      "metadata": {
        "id": "BjvlUmQFbvzL"
      }
    },
    {
      "cell_type": "code",
      "source": [
        "# This is a single-line comment\n",
        "# print(bool_var)"
      ],
      "metadata": {
        "id": "YrTq5DYdcLbH"
      },
      "execution_count": null,
      "outputs": []
    },
    {
      "cell_type": "markdown",
      "source": [
        "Multi-line comments are typically used as docstrings to document parts of code e.g functions <br>\n",
        "These can be one-line docstrings or multi-line. See exmaples below"
      ],
      "metadata": {
        "id": "3T7g10Q9dVs5"
      }
    },
    {
      "cell_type": "code",
      "source": [
        "# A function with a one-line docstring\n",
        "def domywork():\n",
        "  \"\"\" this is a multi line comment\n",
        "  as u can see here\n",
        "  \"\"\"\n",
        "  pass\n"
      ],
      "metadata": {
        "id": "VRB5yNyucukt"
      },
      "execution_count": null,
      "outputs": []
    },
    {
      "cell_type": "markdown",
      "source": [
        "#### Displaying output <br>\n",
        "We use the **print** function. It is an inbuilt function that displays output."
      ],
      "metadata": {
        "id": "RGMmajzrYPzr"
      }
    },
    {
      "cell_type": "code",
      "source": [
        "str_var = \"this is my string variable\"\n",
        "print(str_var)"
      ],
      "metadata": {
        "id": "WjhUB3EcYPEq",
        "colab": {
          "base_uri": "https://localhost:8080/"
        },
        "outputId": "2256b834-1dad-4ee2-9b11-8bc81d119755"
      },
      "execution_count": null,
      "outputs": [
        {
          "output_type": "stream",
          "name": "stdout",
          "text": [
            "this is my string variable\n"
          ]
        }
      ]
    },
    {
      "cell_type": "markdown",
      "source": [
        "Because notebooks are interactive, we may sometimes get the variable output without using the print function e.g."
      ],
      "metadata": {
        "id": "60vyeiSjZDIs"
      }
    },
    {
      "cell_type": "code",
      "source": [
        "str_var"
      ],
      "metadata": {
        "id": "-_4tff80ZCeB",
        "colab": {
          "base_uri": "https://localhost:8080/",
          "height": 35
        },
        "outputId": "53464ed3-2f69-429c-a0f9-f0428844b127"
      },
      "execution_count": null,
      "outputs": [
        {
          "output_type": "execute_result",
          "data": {
            "text/plain": [
              "'this is my string variable'"
            ],
            "application/vnd.google.colaboratory.intrinsic+json": {
              "type": "string"
            }
          },
          "metadata": {},
          "execution_count": 17
        }
      ]
    },
    {
      "cell_type": "code",
      "source": [
        "# String inbuilt functions\n",
        "str_var\n",
        "print(str_var.upper())\n",
        "print(str_var.lower())"
      ],
      "metadata": {
        "id": "o4ws2Tpc9577",
        "colab": {
          "base_uri": "https://localhost:8080/"
        },
        "outputId": "f6da52ef-0bf7-439c-c44c-811d4a6094cb"
      },
      "execution_count": null,
      "outputs": [
        {
          "output_type": "stream",
          "name": "stdout",
          "text": [
            "THIS IS MY STRING VARIABLE\n",
            "this is my string variable\n"
          ]
        }
      ]
    },
    {
      "cell_type": "markdown",
      "source": [
        "#### Getting user input <br>\n",
        "We use the input function."
      ],
      "metadata": {
        "id": "jgrLTS4iYmI8"
      }
    },
    {
      "cell_type": "code",
      "source": [
        "var_user_input = input()\n",
        "\n",
        "#displaying the value of the var_user_input variable.\n",
        "var_user_input"
      ],
      "metadata": {
        "id": "MofCLnAtYlKb",
        "colab": {
          "base_uri": "https://localhost:8080/",
          "height": 53
        },
        "outputId": "66558265-50ae-4c44-e6a5-cb7d1dd15379"
      },
      "execution_count": null,
      "outputs": [
        {
          "name": "stdout",
          "output_type": "stream",
          "text": [
            "yoooooooooooooooooo\n"
          ]
        },
        {
          "output_type": "execute_result",
          "data": {
            "text/plain": [
              "'yoooooooooooooooooo'"
            ],
            "application/vnd.google.colaboratory.intrinsic+json": {
              "type": "string"
            }
          },
          "metadata": {},
          "execution_count": 20
        }
      ]
    },
    {
      "cell_type": "markdown",
      "source": [
        "#### Operators <br>\n",
        "Operators are used to perform operations. These operations can be applied to variables and values. <br>\n",
        "There are different types of operators; Arithmetic operators, Assignment operators, Comparison operators, Logical operators, Identity operators, Membership operators, Bitwise operators. <br>\n",
        "Operations evaluate to some output."
      ],
      "metadata": {
        "id": "Kjf7i8b2hWR1"
      }
    },
    {
      "cell_type": "code",
      "source": [
        "# our variables\n",
        "x = 67\n",
        "y = 90"
      ],
      "metadata": {
        "id": "yXEWr62ljiRI"
      },
      "execution_count": null,
      "outputs": []
    },
    {
      "cell_type": "markdown",
      "source": [
        " Arithmetic operators and operations"
      ],
      "metadata": {
        "id": "IwlbUJ_mjfoR"
      }
    },
    {
      "cell_type": "code",
      "source": [
        "# Addition (+)\n",
        "print(x+y)\n",
        "# Subtraction (-)\n",
        "print(x-y)\n",
        "# Multiplication (*)\n",
        "print(x*y)\n",
        "# Division\n",
        "print(x/y)\n",
        "# Floor Division (//)\n",
        "print(x//y)\n",
        "# Modulus (%)\n",
        "print(y%x)\n",
        "# Exponention (**)\n",
        "print(x**4)"
      ],
      "metadata": {
        "id": "Im1wuDscikkn",
        "colab": {
          "base_uri": "https://localhost:8080/"
        },
        "outputId": "a433c3d7-7236-44a8-f675-7ece5ded948f"
      },
      "execution_count": null,
      "outputs": [
        {
          "output_type": "stream",
          "name": "stdout",
          "text": [
            "157\n",
            "-23\n",
            "6030\n",
            "0.7444444444444445\n",
            "0\n",
            "23\n",
            "20151121\n"
          ]
        }
      ]
    },
    {
      "cell_type": "markdown",
      "source": [
        "Assignment operators and operations"
      ],
      "metadata": {
        "id": "fkQD77-dj527"
      }
    },
    {
      "cell_type": "code",
      "source": [
        "# We have already looked at typical variable assignment e.g. x=2\n",
        "\n",
        "# Can take on more complex assignments\n",
        "print(x)\n",
        "x += 3# this adds whatever is on the right of the += to what's on the left\n",
        "# x -= 3\n",
        "# x *= 3\n",
        "# x /= 3\n",
        "# x %= 3\n",
        "print(x)"
      ],
      "metadata": {
        "id": "Q57p8GyhjvV-",
        "colab": {
          "base_uri": "https://localhost:8080/"
        },
        "outputId": "faf22216-afd0-45e8-ee91-e7a18ed78ac1"
      },
      "execution_count": null,
      "outputs": [
        {
          "output_type": "stream",
          "name": "stdout",
          "text": [
            "79\n",
            "82\n"
          ]
        }
      ]
    },
    {
      "cell_type": "markdown",
      "source": [
        "Comparison operators and operations"
      ],
      "metadata": {
        "id": "5z3SeCXrlKZW"
      }
    },
    {
      "cell_type": "code",
      "source": [
        "# Equal (==)\n",
        "print(x == y)\n",
        "print(1 == 3)"
      ],
      "metadata": {
        "id": "8fU-o5FaksBF",
        "colab": {
          "base_uri": "https://localhost:8080/"
        },
        "outputId": "271d6352-2b4c-479d-b94a-3ae25ab0aeda"
      },
      "execution_count": null,
      "outputs": [
        {
          "output_type": "stream",
          "name": "stdout",
          "text": [
            "False\n",
            "False\n"
          ]
        }
      ]
    },
    {
      "cell_type": "code",
      "source": [
        "# Not equal (!=)\n",
        "print(x != y)"
      ],
      "metadata": {
        "id": "D9cuG-Cnljd4",
        "colab": {
          "base_uri": "https://localhost:8080/"
        },
        "outputId": "7d9fc4fa-8e50-4d31-b4b5-46394fa22e18"
      },
      "execution_count": null,
      "outputs": [
        {
          "output_type": "stream",
          "name": "stdout",
          "text": [
            "True\n"
          ]
        }
      ]
    },
    {
      "cell_type": "code",
      "source": [
        "# Greater than (>) and less than (<)\n",
        "x > y\n",
        "x < y\n",
        "\n",
        "# They can also be combined with other operators e.g =\n",
        "x >= y\n",
        "y <= x"
      ],
      "metadata": {
        "id": "wmxHFF-6mE6m"
      },
      "execution_count": null,
      "outputs": []
    },
    {
      "cell_type": "markdown",
      "source": [
        "Simple math <br>\n",
        "We can perform more complex operations by combining many operators, values and variables. e.g. <br>\n",
        "x + y**2 +4 /x. <br>\n",
        "It is immportant to know that the order of operations matters  for such scenarios. <br>\n",
        "Order of Operations. <br>\n",
        "This means that the following order will be maintained when solving calculations:\n",
        "\n",
        "\n",
        "1.   Parentheses\n",
        "1.   Exponents\n",
        "2.   Multiplication/Division\n",
        "2.   Addition/Subtraction\n",
        "\n"
      ],
      "metadata": {
        "id": "XyICnYhrnRzH"
      }
    },
    {
      "cell_type": "code",
      "source": [
        "# Consider the exmaple below.\n",
        "# We shall use the variables x and y\n",
        "# Display the values of x and y\n",
        "print(x)\n",
        "print(y)"
      ],
      "metadata": {
        "id": "6JMnKO1HnQzv"
      },
      "execution_count": null,
      "outputs": []
    },
    {
      "cell_type": "code",
      "source": [
        "x + y / 3"
      ],
      "metadata": {
        "id": "6_zRITJromGU"
      },
      "execution_count": null,
      "outputs": []
    },
    {
      "cell_type": "code",
      "source": [
        "x=5\n",
        "y=9\n",
        "(x+y) / 3"
      ],
      "metadata": {
        "id": "BykghGi6oqws",
        "colab": {
          "base_uri": "https://localhost:8080/"
        },
        "outputId": "6d6ec05f-854e-4439-f9f7-e284d923e3b7"
      },
      "execution_count": 3,
      "outputs": [
        {
          "output_type": "execute_result",
          "data": {
            "text/plain": [
              "4.666666666666667"
            ]
          },
          "metadata": {},
          "execution_count": 3
        }
      ]
    },
    {
      "cell_type": "markdown",
      "source": [
        "Calculating Mortgage Payment Exercise (Practice)\n",
        "\n",
        "Let us attempt this practise exercise together. The morgage payment is given by the formula <br>"
      ],
      "metadata": {
        "id": "uOn65xyQpRLu"
      }
    },
    {
      "cell_type": "markdown",
      "source": [
        "\\begin{align}\n",
        "        \\mathbf{P}* \\frac{r(1+r)^n }{(1+r)^n -1}\n",
        "    \\end{align}\n",
        "\n",
        "Where:\n",
        "\n",
        "\n",
        "*   P = principal (amount borrowed)\n",
        "*   r = interest rate/12\n",
        "*   n = term (number of payments)\n",
        "\n",
        "\n",
        "\n",
        "1)How much would the monthly payment be for a 30 year mortgage (30 * 12 = 360 month term) with a 400,000 dollar principal and a 3% APR (interest rate with fees included)?\n",
        "\n"
      ],
      "metadata": {
        "id": "hJx5y66CrDVh"
      }
    },
    {
      "cell_type": "code",
      "source": [
        "# Define variables\n",
        "p = 400000\n",
        "r = 3/100\n",
        "n = 360\n",
        "compounded_interest =((1+r)**n)"
      ],
      "metadata": {
        "id": "sY9tlVWFtlod"
      },
      "execution_count": 5,
      "outputs": []
    },
    {
      "cell_type": "code",
      "source": [
        "payment = (p * (r*compounded_interest) / (compounded_interest - 1))\n",
        "payment"
      ],
      "metadata": {
        "colab": {
          "base_uri": "https://localhost:8080/"
        },
        "id": "dWy1pjHM1ijG",
        "outputId": "230b8408-96e6-481b-c18f-9e63431da1a8"
      },
      "execution_count": 6,
      "outputs": [
        {
          "output_type": "execute_result",
          "data": {
            "text/plain": [
              "12000.286939763988"
            ]
          },
          "metadata": {},
          "execution_count": 6
        }
      ]
    },
    {
      "cell_type": "code",
      "source": [
        "# write the formula here.\n",
        "# Feel free to use intermediate variables and as many cells as you would like\n",
        "# Expected answer = 12000.286939763988"
      ],
      "metadata": {
        "id": "twYWImBuut7D"
      },
      "execution_count": null,
      "outputs": []
    },
    {
      "cell_type": "markdown",
      "source": [
        "Small note on python float point precision.  \n",
        "Some times it is important to present float values witha certain precision e.g 3 decimal places. There are a few ways you can do this:"
      ],
      "metadata": {
        "id": "DmcI0VCX0HxH"
      }
    },
    {
      "cell_type": "code",
      "source": [
        "# Using math to get the floor or ceiling\n",
        "import math\n",
        "print(math.floor(0.67))\n",
        "print(math.floor(0.45))\n",
        "# The math.floor function returns the lower integer value.\n",
        "print(math.ceil(0.67))\n",
        "print(math.ceil(0.45))\n",
        "# The math.ceil function returns the larger(next) integer value.\n",
        "# NOTE. These functions do not round off\n",
        "print(math.trunc(0.67))\n",
        "print(math.trunc(2.45))\n",
        "# The math.trunc function cuts off all decimal places."
      ],
      "metadata": {
        "id": "apcfmvJhugKO",
        "colab": {
          "base_uri": "https://localhost:8080/"
        },
        "outputId": "93e723e0-44ed-460d-88b7-6e1f8d3b771e"
      },
      "execution_count": 7,
      "outputs": [
        {
          "output_type": "stream",
          "name": "stdout",
          "text": [
            "0\n",
            "0\n",
            "1\n",
            "1\n",
            "0\n",
            "2\n"
          ]
        }
      ]
    },
    {
      "cell_type": "code",
      "source": [
        "# Rounding off with round\n",
        "print(round(0.67))\n",
        "print(round(0.45))\n",
        "print(round(0.5))\n",
        "print(round(0.500001))\n",
        "# The round function thresholds at 0.5\n",
        "# You can also specify the number of decimal places as an extra argument\n",
        "print(round(0.255626, 5))"
      ],
      "metadata": {
        "id": "dNZXcULV1vzM",
        "colab": {
          "base_uri": "https://localhost:8080/"
        },
        "outputId": "efc35eaa-892e-45bd-e210-e77987ae4b72"
      },
      "execution_count": 28,
      "outputs": [
        {
          "output_type": "stream",
          "name": "stdout",
          "text": [
            "1\n",
            "0\n",
            "0\n",
            "1\n",
            "0.25563\n"
          ]
        }
      ]
    },
    {
      "cell_type": "code",
      "source": [
        "print(round(0.500000000000000001))"
      ],
      "metadata": {
        "colab": {
          "base_uri": "https://localhost:8080/"
        },
        "id": "_U1U7nw643uv",
        "outputId": "9d2c262d-1595-4eee-bfda-aef52713aaa6"
      },
      "execution_count": 19,
      "outputs": [
        {
          "output_type": "stream",
          "name": "stdout",
          "text": [
            "0\n"
          ]
        }
      ]
    },
    {
      "cell_type": "code",
      "source": [
        "# Floating point precision with print\n",
        "float_value = 4.73763873\n",
        "print(float_value)\n",
        "# Using the % formatting symbol\n",
        "print(\"The value to 3 dp is %.3f\" %float_value)\n",
        "# Using the format function\n",
        "print(\"The value to 3 dp is {0:.3f}\".format(float_value))\n",
        "# Using format strings\n",
        "print(f\"The value to 3 dp is {float_value:.3f}\")"
      ],
      "metadata": {
        "id": "zV6wBSUT2yfE",
        "colab": {
          "base_uri": "https://localhost:8080/"
        },
        "outputId": "e7d423ce-924f-4f58-e23d-2add422472f8"
      },
      "execution_count": 20,
      "outputs": [
        {
          "output_type": "stream",
          "name": "stdout",
          "text": [
            "4.73763873\n",
            "The value to 3 dp is 4.738\n",
            "The value to 3 dp is 4.738\n",
            "The value to 3 dp is 4.738\n"
          ]
        }
      ]
    },
    {
      "cell_type": "markdown",
      "source": [
        "Read more on string formating.\n",
        "\n",
        "\n",
        "*   https://realpython.com/python-string-formatting/\n",
        "*   https://www.learnpython.org/en/String_Formatting\n",
        "\n"
      ],
      "metadata": {
        "id": "TohLAN-B5YOY"
      }
    },
    {
      "cell_type": "markdown",
      "source": [
        "## Booleans and Conditionals  \n",
        "Booleans are represented by 2 values i.e. True or False.  \n",
        "There are many scenarios where you will want to evaluate an expression to get a boolean."
      ],
      "metadata": {
        "id": "xJHBMUW5TcVA"
      }
    },
    {
      "cell_type": "code",
      "source": [
        "# Recap boolean variables\n",
        "true_var = True\n",
        "false_var = False"
      ],
      "metadata": {
        "id": "OQoVIJLPU5WJ"
      },
      "execution_count": 1,
      "outputs": []
    },
    {
      "cell_type": "code",
      "source": [
        "print(type(true_var))\n",
        "print(type(false_var))\n",
        "print(type(False))"
      ],
      "metadata": {
        "id": "hJHb60f42aAb",
        "colab": {
          "base_uri": "https://localhost:8080/"
        },
        "outputId": "ccd518fd-c593-4359-a94a-afd2335fec08"
      },
      "execution_count": 5,
      "outputs": [
        {
          "output_type": "stream",
          "name": "stdout",
          "text": [
            "<class 'bool'>\n",
            "<class 'bool'>\n",
            "<class 'bool'>\n"
          ]
        }
      ]
    },
    {
      "cell_type": "code",
      "source": [
        "# Some expressions evaluate to a boolean value\n",
        "a = 32\n",
        "b = 56\n",
        "print(a>b)\n",
        "print(a<b)"
      ],
      "metadata": {
        "id": "-dLl4HRzUccr",
        "colab": {
          "base_uri": "https://localhost:8080/"
        },
        "outputId": "1f18d35d-e7af-4dcf-b6fc-17ee6b14e7de"
      },
      "execution_count": 6,
      "outputs": [
        {
          "output_type": "stream",
          "name": "stdout",
          "text": [
            "False\n",
            "True\n"
          ]
        }
      ]
    },
    {
      "cell_type": "code",
      "source": [
        "# What will the following expressions evaluate to\n",
        "# print(a>32)\n",
        "# print(a>=32)\n",
        "\n",
        "#they evaluate to\n",
        "print(a>32)\n",
        "print(a>=32)"
      ],
      "metadata": {
        "id": "_VCvFQX12V9R",
        "colab": {
          "base_uri": "https://localhost:8080/"
        },
        "outputId": "30f32868-a672-483f-d833-28ff9d83fff8"
      },
      "execution_count": 7,
      "outputs": [
        {
          "output_type": "stream",
          "name": "stdout",
          "text": [
            "False\n",
            "True\n"
          ]
        }
      ]
    },
    {
      "cell_type": "code",
      "source": [
        "# Write an expression that evaluates to a boolean using the eguality/non-equality operator.\n",
        "print(a==32)\n",
        "print(b!=56)"
      ],
      "metadata": {
        "id": "XwcBMxdU1uYs",
        "colab": {
          "base_uri": "https://localhost:8080/"
        },
        "outputId": "8a5f94c5-1a85-4336-a091-19e62e25bcae"
      },
      "execution_count": 9,
      "outputs": [
        {
          "output_type": "stream",
          "name": "stdout",
          "text": [
            "True\n",
            "False\n"
          ]
        }
      ]
    },
    {
      "cell_type": "markdown",
      "source": [
        "The above expressions define conditions whose value can be checked with the **if statement**.  \n",
        "The **if statement** is used to check if an expression evaluates to **True**.  \n",
        "The genral syntax is:\n",
        "\n",
        "<br><br>\n",
        "*if condition:*  \n",
        "> *do_something...*\n",
        "\n"
      ],
      "metadata": {
        "id": "BemRvLfT27Rz"
      }
    },
    {
      "cell_type": "code",
      "source": [
        "# An example:\n",
        "if a>b:\n",
        "  print(\"a is greater than b\")"
      ],
      "metadata": {
        "id": "0hlO__oO3htq"
      },
      "execution_count": 12,
      "outputs": []
    },
    {
      "cell_type": "code",
      "source": [
        "# Another example:\n",
        "if a<b:\n",
        "  print(\"a is less than b\")"
      ],
      "metadata": {
        "id": "XO5qtFf14bHt",
        "colab": {
          "base_uri": "https://localhost:8080/"
        },
        "outputId": "85df4c31-2f2d-4331-b022-6114e4fd0f92"
      },
      "execution_count": 13,
      "outputs": [
        {
          "output_type": "stream",
          "name": "stdout",
          "text": [
            "a is less than b\n"
          ]
        }
      ]
    },
    {
      "cell_type": "markdown",
      "source": [
        "**NOTE** there we have indented the code block for the if statement. This is because python uses indentation to define the scope of a code block.  \n",
        "\n",
        "In colab when you hit the enter/return key after the full-colon (**:**), the cell will automatically indent the code."
      ],
      "metadata": {
        "id": "TTdPv-KZ4iRo"
      }
    },
    {
      "cell_type": "code",
      "source": [
        "# Same example as before without identation. What will happen\n",
        "# if a<b:\n",
        "# print(\"a is less than b\")\n",
        "\n",
        "#brings indentation error"
      ],
      "metadata": {
        "id": "KyGvPaaQ5KVp",
        "colab": {
          "base_uri": "https://localhost:8080/",
          "height": 140
        },
        "outputId": "231100c8-385e-4155-ee5c-fed8cf51170e"
      },
      "execution_count": 15,
      "outputs": [
        {
          "output_type": "error",
          "ename": "IndentationError",
          "evalue": "ignored",
          "traceback": [
            "\u001b[0;36m  File \u001b[0;32m\"<ipython-input-15-780aac739d4c>\"\u001b[0;36m, line \u001b[0;32m3\u001b[0m\n\u001b[0;31m    print(\"a is less than b\")\u001b[0m\n\u001b[0m    ^\u001b[0m\n\u001b[0;31mIndentationError\u001b[0m\u001b[0;31m:\u001b[0m expected an indented block after 'if' statement on line 2\n"
          ]
        }
      ]
    },
    {
      "cell_type": "markdown",
      "source": [
        "The if statement will typically be used with the **elif** and **else** statement to control the flow of the alternative option.\n"
      ],
      "metadata": {
        "id": "5rEOL_AX5hu0"
      }
    },
    {
      "cell_type": "markdown",
      "source": [
        "![If-Else-in-Python.jpg](data:image/jpeg;base64,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)  \n",
        "\n",
        "Credit : [EDCUBA](https://www.educba.com/if-else-in-python/)"
      ],
      "metadata": {
        "id": "GRUz2ldr6UIo"
      }
    },
    {
      "cell_type": "code",
      "source": [
        "# Let us combine the 2 if statements into one by using the else statement.\n",
        "if a>b:\n",
        "  print(\"a is greater than b\")\n",
        "else: # Notice that this will run when the condition for the if satement evaluates to False\n",
        "  print(\"a is less than b\")"
      ],
      "metadata": {
        "id": "_p5E_OWR4hym",
        "colab": {
          "base_uri": "https://localhost:8080/"
        },
        "outputId": "d8b1f3a6-82cd-4611-fc50-7ca1e7f36f1a"
      },
      "execution_count": 16,
      "outputs": [
        {
          "output_type": "stream",
          "name": "stdout",
          "text": [
            "a is less than b\n"
          ]
        }
      ]
    },
    {
      "cell_type": "code",
      "source": [
        "# We can use elif when we have more than 1 condition to evaluate.\n",
        "c = 48\n",
        "print(a)\n",
        "print(b)\n",
        "print(c)"
      ],
      "metadata": {
        "id": "he6ECBq57uyG",
        "colab": {
          "base_uri": "https://localhost:8080/"
        },
        "outputId": "e6ccac3f-00d7-4d35-92f3-c7d4ad2547f1"
      },
      "execution_count": 17,
      "outputs": [
        {
          "output_type": "stream",
          "name": "stdout",
          "text": [
            "32\n",
            "56\n",
            "48\n"
          ]
        }
      ]
    },
    {
      "cell_type": "code",
      "source": [
        "# We want to check independently if a and b are greater than c\n",
        "if a > c:\n",
        "  print(\"a is greater than b\")\n",
        "elif b > c:\n",
        "  print(\"b is greater than c\")"
      ],
      "metadata": {
        "id": "DQASvYk_8BaF",
        "colab": {
          "base_uri": "https://localhost:8080/"
        },
        "outputId": "5d7cc496-11ac-47ee-948c-4df3c481fb70"
      },
      "execution_count": 18,
      "outputs": [
        {
          "output_type": "stream",
          "name": "stdout",
          "text": [
            "b is greater than c\n"
          ]
        }
      ]
    },
    {
      "cell_type": "code",
      "source": [
        "# The elif statement can always be followed by an else statement when you need to evaluate the alternative. e.g\n",
        "if a > c:\n",
        "  print(\"a is greater than b\")\n",
        "elif c > b:\n",
        "  print(\"c is greater than b\")\n",
        "else:\n",
        "  print(\"b is greater than a and c\")"
      ],
      "metadata": {
        "id": "hIPQGgcZ9jM_",
        "colab": {
          "base_uri": "https://localhost:8080/"
        },
        "outputId": "af56b9d2-08c4-4e75-d917-eaa7a080cfcc"
      },
      "execution_count": 19,
      "outputs": [
        {
          "output_type": "stream",
          "name": "stdout",
          "text": [
            "b is greater than a and c\n"
          ]
        }
      ]
    },
    {
      "cell_type": "code",
      "source": [
        "# Write an if statement to check if the sum of a and c divided by 2 is greater than b. i.e. if(a+c)/2\n",
        "# is greater than b\n",
        "d =(a+c) / 2\n",
        "\n",
        "if(d > b):\n",
        "  print(\"d is greater than b\")\n",
        "else:\n",
        "  print(\"not even the addition of the 2 compares\")"
      ],
      "metadata": {
        "id": "e48QIM9l9GEb",
        "colab": {
          "base_uri": "https://localhost:8080/"
        },
        "outputId": "7cd8ef09-89a0-4fef-a2f5-865bddee4a8e"
      },
      "execution_count": 20,
      "outputs": [
        {
          "output_type": "stream",
          "name": "stdout",
          "text": [
            "not even the addition of the 2 compares\n"
          ]
        }
      ]
    },
    {
      "cell_type": "markdown",
      "source": [
        "At this point you are ready to do the [FizzBuzz](https://login.codingdojo.com/m/551/13195/92394) practise exercise."
      ],
      "metadata": {
        "id": "D0fOmOVc2iiO"
      }
    },
    {
      "cell_type": "markdown",
      "source": [
        "### Iterables"
      ],
      "metadata": {
        "id": "N-WByDeXaTEJ"
      }
    },
    {
      "cell_type": "markdown",
      "source": [
        "\n",
        "- **Iterable**:\n",
        "    - a variable type that holds multiple entries.\n",
        "        - Any variable you can loop through is an iterable:\n",
        "            - Lists\n",
        "            - Dictionaries\n",
        "            - Tuples\n",
        "            - Sets\n",
        "\n"
      ],
      "metadata": {
        "id": "CqtuXgKAPrNg"
      }
    },
    {
      "cell_type": "markdown",
      "source": [
        "Lists are an in-built datatype used to store collections of data.  \n",
        "Lists are ordered, mutable/changeable, can have multiple data types"
      ],
      "metadata": {
        "id": "m3HpH-TY8uzc"
      }
    },
    {
      "cell_type": "code",
      "source": [
        "# Defining a list\n",
        "myList = [\"a\", \"b\", \"c\"]\n",
        "myList"
      ],
      "metadata": {
        "id": "yUj4IWv281Ue",
        "colab": {
          "base_uri": "https://localhost:8080/"
        },
        "outputId": "351022ac-f40a-4789-99dc-522bb4d147ad"
      },
      "execution_count": 1,
      "outputs": [
        {
          "output_type": "execute_result",
          "data": {
            "text/plain": [
              "['a', 'b', 'c']"
            ]
          },
          "metadata": {},
          "execution_count": 1
        }
      ]
    },
    {
      "cell_type": "code",
      "source": [
        "# Multiple type list\n",
        "multiple_data_type_list = [\"a\", 2, [5,6, None], \"three\"]\n",
        "print(multiple_data_type_list)"
      ],
      "metadata": {
        "id": "zV0D_IfU9LPX",
        "colab": {
          "base_uri": "https://localhost:8080/"
        },
        "outputId": "65f08609-dc7a-4fbf-c773-02903dd5922c"
      },
      "execution_count": 23,
      "outputs": [
        {
          "output_type": "stream",
          "name": "stdout",
          "text": [
            "['a', 2, [5, 6, None], 'three']\n"
          ]
        }
      ]
    },
    {
      "cell_type": "code",
      "source": [
        "# Lists can also be created using the list constructor\n",
        "list_from_constructor = list((1,2,3,\"4\", \"five\"))\n",
        "print(list_from_constructor)"
      ],
      "metadata": {
        "id": "AqaeE3379iOZ",
        "colab": {
          "base_uri": "https://localhost:8080/"
        },
        "outputId": "cd721301-6786-4bd4-e5f9-4e583ca7c3bf"
      },
      "execution_count": 26,
      "outputs": [
        {
          "output_type": "stream",
          "name": "stdout",
          "text": [
            "[1, 2, 3, '4', 'five']\n"
          ]
        }
      ]
    },
    {
      "cell_type": "markdown",
      "source": [
        "### Slicing/Indexing"
      ],
      "metadata": {
        "id": "4SIMVLCSaVlv"
      }
    },
    {
      "cell_type": "markdown",
      "source": [
        "\n",
        "\n",
        "- **Slicing/Indexing**:\n",
        "    - Extracting the desired information from an iterable.\n",
        "    - We use `[ ]` to indicate the item we want using its index\n",
        "        - For lists, tuples, index = integer.\n",
        "        - For dictionaries,  index = keys\n",
        "\n",
        "\n"
      ],
      "metadata": {
        "id": "0pej_VIuOkQL"
      }
    },
    {
      "cell_type": "code",
      "source": [
        "# Lists are zero-indexed i.e the indices start from zero\n",
        "myList[0]"
      ],
      "metadata": {
        "id": "6WCmo-KX-f5C",
        "colab": {
          "base_uri": "https://localhost:8080/",
          "height": 35
        },
        "outputId": "da20820c-a012-43f2-a0e2-dd496797e665"
      },
      "execution_count": 2,
      "outputs": [
        {
          "output_type": "execute_result",
          "data": {
            "text/plain": [
              "'a'"
            ],
            "application/vnd.google.colaboratory.intrinsic+json": {
              "type": "string"
            }
          },
          "metadata": {},
          "execution_count": 2
        }
      ]
    },
    {
      "cell_type": "code",
      "source": [
        "# myList[3]\n",
        "# Uncomment to see result\n",
        "# The max index of a list is number of items -1"
      ],
      "metadata": {
        "id": "F-Ipucfa_L-t"
      },
      "execution_count": 4,
      "outputs": []
    },
    {
      "cell_type": "code",
      "source": [
        "# Accessing values in the list using the index\n",
        "myList[2]"
      ],
      "metadata": {
        "id": "pRySjhDq_eO1",
        "colab": {
          "base_uri": "https://localhost:8080/",
          "height": 35
        },
        "outputId": "52c9674e-25a4-4b28-8303-3f176e6fcf99"
      },
      "execution_count": 5,
      "outputs": [
        {
          "output_type": "execute_result",
          "data": {
            "text/plain": [
              "'c'"
            ],
            "application/vnd.google.colaboratory.intrinsic+json": {
              "type": "string"
            }
          },
          "metadata": {},
          "execution_count": 5
        }
      ]
    },
    {
      "cell_type": "code",
      "source": [
        "# Lists also support negative indexing. Negative indices enable access of elements from the end of the list e.g.\n",
        "myList[-1] # will return the last element of the list\n",
        "\n",
        "# Please note that negative indices are not zero-indexed."
      ],
      "metadata": {
        "id": "cnCQnyGb-nGf",
        "colab": {
          "base_uri": "https://localhost:8080/",
          "height": 35
        },
        "outputId": "08caf543-cd85-4a11-bfb4-2127a8076535"
      },
      "execution_count": 6,
      "outputs": [
        {
          "output_type": "execute_result",
          "data": {
            "text/plain": [
              "'c'"
            ],
            "application/vnd.google.colaboratory.intrinsic+json": {
              "type": "string"
            }
          },
          "metadata": {},
          "execution_count": 6
        }
      ]
    },
    {
      "cell_type": "markdown",
      "source": [
        "List slicing - a slice is a portion of a list. A list can be sliced using this format   *listname[start, end, step(optional)]* .  \n",
        "The list slice will include the value at the start index upto the value at the end index-1.  \n",
        "The optional step value defines how many elemnets to skip in the slice."
      ],
      "metadata": {
        "id": "IjWsitjc_E2U"
      }
    },
    {
      "cell_type": "code",
      "source": [
        "# Let us definne a new list\n",
        "numbersList = [1,2,3,4,5,6,7,8,9,10]"
      ],
      "metadata": {
        "id": "FqgFnqM7AYj2"
      },
      "execution_count": 7,
      "outputs": []
    },
    {
      "cell_type": "code",
      "source": [
        "# Slicing from the first element to the ninth element\n",
        "print(numbersList[0:9])\n",
        "# Slicing from the first element to the seventh element\n",
        "print(numbersList[0:7])\n",
        "\n",
        "# Slicing from the third element to the sixth element\n",
        "print(numbersList[2:6])"
      ],
      "metadata": {
        "id": "77mlu-Z0AfvI",
        "colab": {
          "base_uri": "https://localhost:8080/"
        },
        "outputId": "4892c1a3-88ae-4b72-c099-5590d36da842"
      },
      "execution_count": 8,
      "outputs": [
        {
          "output_type": "stream",
          "name": "stdout",
          "text": [
            "[1, 2, 3, 4, 5, 6, 7, 8, 9]\n",
            "[1, 2, 3, 4, 5, 6, 7]\n",
            "[3, 4, 5, 6]\n"
          ]
        }
      ]
    },
    {
      "cell_type": "code",
      "source": [
        "# Using the step parameter\n",
        "print(numbersList[0:10:1]) # Step is 1\n",
        "\n",
        "# Using the step parameter\n",
        "print(numbersList[0:10:2]) # Step is 2"
      ],
      "metadata": {
        "id": "ggSK_ljSBAe-",
        "colab": {
          "base_uri": "https://localhost:8080/"
        },
        "outputId": "358e03b2-42a4-40b3-8218-30a0f7a849c1"
      },
      "execution_count": 9,
      "outputs": [
        {
          "output_type": "stream",
          "name": "stdout",
          "text": [
            "[1, 2, 3, 4, 5, 6, 7, 8, 9, 10]\n",
            "[1, 3, 5, 7, 9]\n"
          ]
        }
      ]
    },
    {
      "cell_type": "code",
      "source": [
        "# If we do not specify the end index, the slice will go up to the end\n",
        "print(numbersList[2:])"
      ],
      "metadata": {
        "id": "kT52SuHLCFQ1",
        "colab": {
          "base_uri": "https://localhost:8080/"
        },
        "outputId": "e63f9e31-72e1-4890-b4f5-69be5029a8fb"
      },
      "execution_count": 10,
      "outputs": [
        {
          "output_type": "stream",
          "name": "stdout",
          "text": [
            "[3, 4, 5, 6, 7, 8, 9, 10]\n"
          ]
        }
      ]
    },
    {
      "cell_type": "code",
      "source": [
        "# Slice the list from the first value to the second-last value.\n",
        "# Hint: Use negative indexing for the end index\n",
        "print(numbersList[0:-1])"
      ],
      "metadata": {
        "id": "SXLEjWD-CZj3",
        "colab": {
          "base_uri": "https://localhost:8080/"
        },
        "outputId": "954150b0-dce0-419e-a65a-704a91f2b61c"
      },
      "execution_count": 12,
      "outputs": [
        {
          "output_type": "stream",
          "name": "stdout",
          "text": [
            "[1, 2, 3, 4, 5, 6, 7, 8, 9]\n"
          ]
        }
      ]
    },
    {
      "cell_type": "markdown",
      "source": [
        "Lists have inbuilt fucntions that can be used to manipulate and access elements in a list.  \n",
        "Some of the popular methods are:\n",
        "\n",
        "*   count() - this returns the number of occurances of an element in the list\n",
        "*   sort() - sorts the elements in the list in ascending order. It alters the list,\n",
        "*   append() - adds an element to the list\n",
        "*   remove() - removes the first occurance of a value in the list.\n",
        "*   pop - removes an element at the specified index.\n",
        "*   insert() - adds an element before the specified index.\n",
        "\n",
        "\n",
        "\n",
        "\n"
      ],
      "metadata": {
        "id": "59lrQKlaC7F7"
      }
    },
    {
      "cell_type": "code",
      "source": [
        "# Define a list\n",
        "my_other_list = [3,2,4,3,1,5,3,5,6,7,99,23,2]"
      ],
      "metadata": {
        "id": "Z1ObNlBMxL-2"
      },
      "execution_count": 13,
      "outputs": []
    },
    {
      "cell_type": "code",
      "source": [
        "# Getting the count\n",
        "print(my_other_list.count(2))"
      ],
      "metadata": {
        "id": "RVCD4LO8DUpe",
        "colab": {
          "base_uri": "https://localhost:8080/"
        },
        "outputId": "d65099d1-51b8-4d49-e288-31889d456d51"
      },
      "execution_count": 17,
      "outputs": [
        {
          "output_type": "stream",
          "name": "stdout",
          "text": [
            "2\n"
          ]
        }
      ]
    },
    {
      "cell_type": "code",
      "source": [
        "# Sorting\n",
        "my_other_list.sort()\n",
        "print(my_other_list)\n",
        "\n",
        "# Try with different data types\n",
        "str_list = [\"b\", \"th\", \"a\", \"apple\", \"boy\"]\n",
        "str_list.sort()\n",
        "print(str_list)\n",
        "\n",
        "# What happens when we mix data types\n",
        "\n",
        "# complex_list = [3,5,6,\"well\", \"apple\", \"a\"]\n",
        "# complex_list.sort()\n",
        "# print(complex_list)\n",
        "# only works for same datatypes"
      ],
      "metadata": {
        "id": "32uc6c8Tw2eT",
        "colab": {
          "base_uri": "https://localhost:8080/"
        },
        "outputId": "5326dc04-7854-493d-f390-403760e7c02b"
      },
      "execution_count": 21,
      "outputs": [
        {
          "output_type": "stream",
          "name": "stdout",
          "text": [
            "[1, 2, 2, 3, 3, 3, 4, 5, 5, 6, 7, 23, 99]\n",
            "['a', 'apple', 'b', 'boy', 'th']\n"
          ]
        }
      ]
    },
    {
      "cell_type": "markdown",
      "source": [
        "You can get a copy of the soorted list using the inbuilt sorted() function [link text](https://www.w3schools.com/python/ref_func_sorted.asp)."
      ],
      "metadata": {
        "id": "Xj4hbETYzWfn"
      }
    },
    {
      "cell_type": "code",
      "source": [
        "# Appending\n",
        "my_other_list.append(97654)\n",
        "my_other_list.sort()\n",
        "print(my_other_list)\n",
        "\n"
      ],
      "metadata": {
        "id": "GBDurIjuyNeZ",
        "colab": {
          "base_uri": "https://localhost:8080/"
        },
        "outputId": "d563ca9e-25bb-4a4b-8ce8-fb13476158dc"
      },
      "execution_count": 26,
      "outputs": [
        {
          "output_type": "stream",
          "name": "stdout",
          "text": [
            "[1, 2, 2, 3, 3, 3, 4, 5, 5, 6, 7, 23, 89, 99, 99, 97654, 97654]\n"
          ]
        }
      ]
    },
    {
      "cell_type": "code",
      "source": [
        "# Removing an element\n",
        "my_other_list.remove(3)\n",
        "print(my_other_list)\n",
        "\n",
        "# We can verify by getting the new count of 3\n",
        "print(my_other_list.count(3))"
      ],
      "metadata": {
        "id": "hW7CmmT2yj2R",
        "colab": {
          "base_uri": "https://localhost:8080/"
        },
        "outputId": "43610ece-12e3-4460-9aaa-0c38458152b7"
      },
      "execution_count": 27,
      "outputs": [
        {
          "output_type": "stream",
          "name": "stdout",
          "text": [
            "[1, 2, 2, 3, 3, 4, 5, 5, 6, 7, 23, 89, 99, 99, 97654, 97654]\n",
            "2\n"
          ]
        }
      ]
    },
    {
      "cell_type": "code",
      "source": [
        "# Removing by index\n",
        "my_other_list.pop(0)\n",
        "print(my_other_list)"
      ],
      "metadata": {
        "id": "eqtrYF5Hy9_F",
        "colab": {
          "base_uri": "https://localhost:8080/"
        },
        "outputId": "92bf7bd4-b4c1-4ceb-c09c-74d7fb8fdc8c"
      },
      "execution_count": 28,
      "outputs": [
        {
          "output_type": "stream",
          "name": "stdout",
          "text": [
            "[2, 2, 3, 3, 4, 5, 5, 6, 7, 23, 89, 99, 99, 97654, 97654]\n"
          ]
        }
      ]
    },
    {
      "cell_type": "code",
      "source": [
        "# Adding an element at an index\n",
        "my_other_list.insert(0, 1)\n",
        "print(my_other_list)\n",
        "\n",
        "my_other_list.insert(-1,9)\n",
        "print(my_other_list)\n",
        "\n",
        "my_other_list.insert(5,1)\n",
        "print(my_other_list)\n",
        "\n",
        "my_other_list.insert(8,90)\n",
        "print(my_other_list)"
      ],
      "metadata": {
        "id": "etsITDAgzH-B",
        "colab": {
          "base_uri": "https://localhost:8080/"
        },
        "outputId": "0c5c1ef4-d731-461c-d1e5-37e86d90a073"
      },
      "execution_count": 31,
      "outputs": [
        {
          "output_type": "stream",
          "name": "stdout",
          "text": [
            "[1, 1, 1, 2, 2, 3, 3, 4, 5, 5, 6, 7, 23, 89, 99, 99, 97654, 9, 97654]\n",
            "[1, 1, 1, 2, 2, 3, 3, 4, 5, 5, 6, 7, 23, 89, 99, 99, 97654, 9, 9, 97654]\n",
            "[1, 1, 1, 2, 2, 1, 3, 3, 4, 5, 5, 6, 7, 23, 89, 99, 99, 97654, 9, 9, 97654]\n",
            "[1, 1, 1, 2, 2, 1, 3, 3, 90, 4, 5, 5, 6, 7, 23, 89, 99, 99, 97654, 9, 9, 97654]\n"
          ]
        }
      ]
    },
    {
      "cell_type": "code",
      "source": [
        "mylists =[1,2,3,4]\n",
        "\n",
        "mylists.insert(-1,90)\n",
        "print(mylists)\n",
        "mylists.insert(-2,89)\n",
        "print(mylists)\n",
        "mylists.insert(-3,87)\n",
        "print(mylists)\n",
        "mylists.insert(-4,85)\n",
        "print(mylists)\n",
        "\n"
      ],
      "metadata": {
        "colab": {
          "base_uri": "https://localhost:8080/"
        },
        "id": "rgJZJMbSRpdV",
        "outputId": "f3037780-8177-49e1-b087-3b889944e732"
      },
      "execution_count": 32,
      "outputs": [
        {
          "output_type": "stream",
          "name": "stdout",
          "text": [
            "[1, 2, 3, 90, 4]\n",
            "[1, 2, 3, 89, 90, 4]\n",
            "[1, 2, 3, 87, 89, 90, 4]\n",
            "[1, 2, 3, 85, 87, 89, 90, 4]\n"
          ]
        }
      ]
    },
    {
      "cell_type": "markdown",
      "source": [
        "### Tuples\n"
      ],
      "metadata": {
        "id": "Q5vXHrgdYkQA"
      }
    },
    {
      "cell_type": "markdown",
      "source": [
        "Tuples are another kind of collection you will run into in Python. Tuples are similar to lists in some ways and different in others. They contain data and are ordered, and they can store any combination of other objects. The difference is that tuples can not be changed. They are immutable."
      ],
      "metadata": {
        "id": "AWpMP4P9xjsX"
      }
    },
    {
      "cell_type": "code",
      "source": [
        "first_tuple = (1,2,3,4,5,6,7,8,9,10)\n",
        "print(first_tuple)"
      ],
      "metadata": {
        "id": "c4h7GKtdx1P-",
        "colab": {
          "base_uri": "https://localhost:8080/"
        },
        "outputId": "5a6608e7-6b14-49a4-e1bd-0369fd2466da"
      },
      "execution_count": 34,
      "outputs": [
        {
          "output_type": "stream",
          "name": "stdout",
          "text": [
            "(1, 2, 3, 4, 5, 6, 7, 8, 9, 10)\n"
          ]
        }
      ]
    },
    {
      "cell_type": "code",
      "source": [
        "another_tuple = (1, \"2\", 6, [\"hello\", \"world\"], (5,33,0.34))\n",
        "print(another_tuple)"
      ],
      "metadata": {
        "id": "IG-1fj2-yBUd",
        "colab": {
          "base_uri": "https://localhost:8080/"
        },
        "outputId": "ff3c9a98-4864-4738-fc8f-8d1a4f3d83ac"
      },
      "execution_count": 35,
      "outputs": [
        {
          "output_type": "stream",
          "name": "stdout",
          "text": [
            "(1, '2', 6, ['hello', 'world'], (5, 33, 0.34))\n"
          ]
        }
      ]
    },
    {
      "cell_type": "markdown",
      "source": [
        "Tuples are indexed and slicable just like lists"
      ],
      "metadata": {
        "id": "-vvhWwEN5GW0"
      }
    },
    {
      "cell_type": "code",
      "source": [
        "first_tuple[1]"
      ],
      "metadata": {
        "id": "cOaVs5-G5K8h",
        "colab": {
          "base_uri": "https://localhost:8080/"
        },
        "outputId": "f5c0508e-0b65-4fd4-c4f2-6dc1b7e97906"
      },
      "execution_count": 36,
      "outputs": [
        {
          "output_type": "execute_result",
          "data": {
            "text/plain": [
              "2"
            ]
          },
          "metadata": {},
          "execution_count": 36
        }
      ]
    },
    {
      "cell_type": "code",
      "source": [
        "first_tuple[0:4]\n",
        "print(another_tuple[0:4])"
      ],
      "metadata": {
        "id": "PNpIHACQ5OHv",
        "colab": {
          "base_uri": "https://localhost:8080/"
        },
        "outputId": "98cdc5ee-6f10-4e34-a09d-b4592e55bc72"
      },
      "execution_count": 39,
      "outputs": [
        {
          "output_type": "stream",
          "name": "stdout",
          "text": [
            "(1, '2', 6, ['hello', 'world'])\n"
          ]
        }
      ]
    },
    {
      "cell_type": "code",
      "source": [
        "first_tuple[-1]"
      ],
      "metadata": {
        "id": "UQHTAGkt5ik7",
        "colab": {
          "base_uri": "https://localhost:8080/"
        },
        "outputId": "4d8f822f-e18f-45dd-e3ef-92b1cc473b05"
      },
      "execution_count": 40,
      "outputs": [
        {
          "output_type": "execute_result",
          "data": {
            "text/plain": [
              "10"
            ]
          },
          "metadata": {},
          "execution_count": 40
        }
      ]
    },
    {
      "cell_type": "markdown",
      "source": [
        "Unpacking tuples is the process of removing values from a tuple and storing them into variables."
      ],
      "metadata": {
        "id": "5vAS3EYTOqeI"
      }
    },
    {
      "cell_type": "code",
      "source": [
        "# Let us define a tuple with three values\n",
        "profile_tuple = (\"Jeremy\", \"Ugandan\", \"Software Engineer\")"
      ],
      "metadata": {
        "id": "ChwEJqE-Optp"
      },
      "execution_count": 41,
      "outputs": []
    },
    {
      "cell_type": "code",
      "source": [
        "# To unpack the tuple we simply define the variables that we want the values to be assigned to.\n",
        "# Because tuples are ordered, the variables will be assigned values based on the ordering in the tuple\n",
        "\n",
        "user_name, user_country, user_job = profile_tuple\n",
        "\n",
        "# Display the unpacked values\n",
        "print(f'Username: {user_name}\\nCountry: {user_country} \\nJob: {user_job}')"
      ],
      "metadata": {
        "id": "Hfm9qkcJPQJp",
        "colab": {
          "base_uri": "https://localhost:8080/"
        },
        "outputId": "13769ff2-fe62-447f-8b78-b04032979c6d"
      },
      "execution_count": 42,
      "outputs": [
        {
          "output_type": "stream",
          "name": "stdout",
          "text": [
            "Username: Jeremy\n",
            "Country: Ugandan \n",
            "Job: Software Engineer\n"
          ]
        }
      ]
    },
    {
      "cell_type": "code",
      "source": [
        "# To unpack to more than one variable, the number of variables must be equal to the number of values in the tuple.\n",
        "# Otherwise this will lead to an error\n",
        "print(first_tuple)\n",
        "a,b,c,d,e,f,g,h,i,j = first_tuple"
      ],
      "metadata": {
        "id": "GfIMFE-0P8en",
        "colab": {
          "base_uri": "https://localhost:8080/"
        },
        "outputId": "b8362af3-53d5-43d8-bdfd-b4066bb518a8"
      },
      "execution_count": 45,
      "outputs": [
        {
          "output_type": "stream",
          "name": "stdout",
          "text": [
            "(1, 2, 3, 4, 5, 6, 7, 8, 9, 10)\n"
          ]
        }
      ]
    },
    {
      "cell_type": "markdown",
      "source": [
        "### Dictionaries"
      ],
      "metadata": {
        "id": "wqzcPsVNYaWw"
      }
    },
    {
      "cell_type": "markdown",
      "source": [
        "**Key: Value Pairs**  \n",
        "\n",
        "Dictionaries are unordered collections of data stored as key/value pairs. You can think of dictionaries as books with a table of contents. The table of contents is called the ‘keys’ and the chapters they refer to are called the ‘values’. Every item in the table of contents tells the location of a chapter, and every chapter is listed in the table of contents\n",
        "\n",
        "Every key in a dictionary is paired with a value. You can add and remove data from a dictionary but must do so for both the key and the value.\n",
        "\n",
        "If we wanted to use a dictionary for our restaurant example, we could use it to keep track of which table a customer has been seated at. The keys could be customer names, and the values could be the table number they are at. A server could very quickly see where to find each customer."
      ],
      "metadata": {
        "id": "JutGNeMgy3SB"
      }
    },
    {
      "cell_type": "code",
      "source": [
        "# Dictionaries can be created using the syntax {key: value}\n",
        "number_dict = {1: \"One\", 2: \"Two\", 3: \"Three\"}\n",
        "print(number_dict)"
      ],
      "metadata": {
        "id": "ys9G42wHy8gy",
        "colab": {
          "base_uri": "https://localhost:8080/"
        },
        "outputId": "8859a76d-2768-4c06-8520-a79f7bed2cef"
      },
      "execution_count": 46,
      "outputs": [
        {
          "output_type": "stream",
          "name": "stdout",
          "text": [
            "{1: 'One', 2: 'Two', 3: 'Three'}\n"
          ]
        }
      ]
    },
    {
      "cell_type": "code",
      "source": [
        "# Dictionary keys and values can be any type\n",
        "another_dict = {\"1\": 1, \"name\": \"Jeremy\", 3: [6,5,7,8]}\n",
        "print(another_dict)"
      ],
      "metadata": {
        "id": "0Bo7xGqlzWDh",
        "colab": {
          "base_uri": "https://localhost:8080/"
        },
        "outputId": "7a83a881-b9a8-4477-9b5d-75161fb5208c"
      },
      "execution_count": 47,
      "outputs": [
        {
          "output_type": "stream",
          "name": "stdout",
          "text": [
            "{'1': 1, 'name': 'Jeremy', 3: [6, 5, 7, 8]}\n"
          ]
        }
      ]
    },
    {
      "cell_type": "code",
      "source": [
        "# We can also create more complex dictionaries\n",
        "complex_dict = {\n",
        "    \"parent\":\n",
        "      {\"children\":\n",
        "       {\"grandchildren\":[\"great grandchild1\", \"great grandchild1\"]}\n",
        "      },\n",
        "    \"a\": another_dict}\n",
        "print(complex_dict)\n",
        "\n",
        "# print(complex_dict['grandchildren'])"
      ],
      "metadata": {
        "id": "Y63tSwd8z_1J",
        "colab": {
          "base_uri": "https://localhost:8080/"
        },
        "outputId": "6ddca3f9-8948-4c64-ecdf-2b7bd48a5323"
      },
      "execution_count": 53,
      "outputs": [
        {
          "output_type": "stream",
          "name": "stdout",
          "text": [
            "{'parent': {'children': {'grandchildren': ['great grandchild1', 'great grandchild1']}}, 'a': {'1': 1, 'name': 'Jeremy', 3: [6, 5, 7, 8]}}\n"
          ]
        }
      ]
    },
    {
      "cell_type": "code",
      "source": [
        "# Creatring an empty dictionary\n",
        "empty_dict = {}\n",
        "\n",
        "print(empty_dict)"
      ],
      "metadata": {
        "id": "BtD-9e8R2rTk",
        "colab": {
          "base_uri": "https://localhost:8080/"
        },
        "outputId": "a152f3f2-f1bf-46f8-8048-63f6e9cd0a15"
      },
      "execution_count": 49,
      "outputs": [
        {
          "output_type": "stream",
          "name": "stdout",
          "text": [
            "{}\n"
          ]
        }
      ]
    },
    {
      "cell_type": "markdown",
      "source": [
        "Adding/Changing values to a dictionary. The most common approach to do this uses the syntax  \n",
        " *dictionary_vairable_name[key] = value*."
      ],
      "metadata": {
        "id": "XPW01p0k2z1d"
      }
    },
    {
      "cell_type": "code",
      "source": [
        "# Adding a new key 4 with string value \"Four\"\n",
        "print(number_dict)\n",
        "number_dict[4] = \"Four\"\n",
        "number_dict[1] = 4\n",
        "\n",
        "print(number_dict)"
      ],
      "metadata": {
        "id": "_doR3F6Q3LzJ",
        "colab": {
          "base_uri": "https://localhost:8080/"
        },
        "outputId": "d113f8c4-a1a1-4aef-9670-f0eeb55ba2f5"
      },
      "execution_count": 55,
      "outputs": [
        {
          "output_type": "stream",
          "name": "stdout",
          "text": [
            "{1: 'One', 2: 'Two', 3: 'Three', 4: 'Four'}\n",
            "{1: 4, 2: 'Two', 3: 'Three', 4: 'Four'}\n"
          ]
        }
      ]
    },
    {
      "cell_type": "code",
      "source": [
        "# Replacing the value of key 3 in the dictionary\n",
        "number_dict[3] = \"Replaced Value\"\n",
        "\n",
        "print(number_dict)"
      ],
      "metadata": {
        "id": "zYWbO_Ng41Ze",
        "colab": {
          "base_uri": "https://localhost:8080/"
        },
        "outputId": "e3f139dc-6706-46f6-ecf2-2262599461d5"
      },
      "execution_count": 56,
      "outputs": [
        {
          "output_type": "stream",
          "name": "stdout",
          "text": [
            "{1: 4, 2: 'Two', 3: 'Replaced Value', 4: 'Four'}\n"
          ]
        }
      ]
    },
    {
      "cell_type": "markdown",
      "source": [
        "What happens is:  \n",
        "1. Check if the key exists in the dictionary.\n",
        "2. If the key exists, replace the value in the dictionary.\n",
        "3. Else create a new kay and value pair in the dictionary"
      ],
      "metadata": {
        "id": "CNYzRRbc3fjH"
      }
    },
    {
      "cell_type": "markdown",
      "source": [
        "To remove a dictionary key, one can use the inbuilt methods **del** and **pop**.Since dictionary keys are immutable, deleting the key also deletes its value."
      ],
      "metadata": {
        "id": "tCrOJu5n7Gwh"
      }
    },
    {
      "cell_type": "code",
      "source": [
        "# Using del. The syntax is del dictionary_variable_name[key]\n",
        "# Removing key 3\n",
        "print(number_dict)\n",
        "del number_dict[2]\n",
        "\n",
        "print(number_dict)"
      ],
      "metadata": {
        "id": "fP5lrSzG7kna",
        "colab": {
          "base_uri": "https://localhost:8080/"
        },
        "outputId": "3ad17541-b765-4830-ed8e-400564119e5d"
      },
      "execution_count": 62,
      "outputs": [
        {
          "output_type": "stream",
          "name": "stdout",
          "text": [
            "{1: 4, 2: 'Two'}\n",
            "{1: 4}\n"
          ]
        }
      ]
    },
    {
      "cell_type": "code",
      "source": [
        "# Using pop. The syntax is dictionary_variable_name.pop(key)\n",
        "# Removing key 4\n",
        "print(number_dict)\n",
        "popped_value = number_dict.pop(4)\n",
        "\n",
        "print(popped_value)\n",
        "\n",
        "print(number_dict)"
      ],
      "metadata": {
        "id": "An5lHhox8CyB",
        "colab": {
          "base_uri": "https://localhost:8080/"
        },
        "outputId": "da181c7a-6fed-499c-ca43-279d8552cf38"
      },
      "execution_count": 58,
      "outputs": [
        {
          "output_type": "stream",
          "name": "stdout",
          "text": [
            "{1: 4, 2: 'Two', 4: 'Four'}\n",
            "Four\n",
            "{1: 4, 2: 'Two'}\n"
          ]
        }
      ]
    },
    {
      "cell_type": "markdown",
      "source": [
        "The main difference between **del** and **pop** is that the **pop** method returns the value of the deleted key whereas **del** does not return anything. Deleting a non-existent key will return an error."
      ],
      "metadata": {
        "id": "jhikgvCS8bkv"
      }
    },
    {
      "cell_type": "code",
      "source": [
        "# Uncomment to see error\n",
        "# number_dict.pop(\"Does not exist\")"
      ],
      "metadata": {
        "id": "10bz-yXs9K9L"
      },
      "execution_count": 65,
      "outputs": []
    },
    {
      "cell_type": "markdown",
      "source": [
        "A dictionary can also be initialized using the dict() constructor/method"
      ],
      "metadata": {
        "id": "UFkayjbT1IDx"
      }
    },
    {
      "cell_type": "code",
      "source": [
        "my_dictionary = dict(\n",
        "    Lion = \"Animal\",\n",
        "    Parrot = \"Bird\",\n",
        "    Cobra = \"Reptile\",\n",
        "    Human = 'Mammals'\n",
        "    )\n",
        "print(my_dictionary)"
      ],
      "metadata": {
        "id": "2k-WLh2X1ttA",
        "colab": {
          "base_uri": "https://localhost:8080/"
        },
        "outputId": "c8a17e36-6ebf-4b5a-8271-e4e42319a6ed"
      },
      "execution_count": 66,
      "outputs": [
        {
          "output_type": "stream",
          "name": "stdout",
          "text": [
            "{'Lion': 'Animal', 'Parrot': 'Bird', 'Cobra': 'Reptile', 'Human': 'Mammals'}\n"
          ]
        }
      ]
    },
    {
      "cell_type": "markdown",
      "source": [
        "Or using lists"
      ],
      "metadata": {
        "id": "PTRq_zyi1yyM"
      }
    },
    {
      "cell_type": "code",
      "source": [
        "# define the lists\n",
        "Keys = [\"Lion\", \"Parrot\", \"Cobra\", \"Human\"]\n",
        "Values = [\"Animal\", \"Bird\", \"Reptile\", \"Mammals\"]\n",
        "\n",
        "# Zip the lists and pass them to the dict constructor\n",
        "my_dict = dict(zip(Values,Keys))\n",
        "\n",
        "print(my_dict)\n",
        "\n"
      ],
      "metadata": {
        "id": "9ThUbPmT0pZ5",
        "colab": {
          "base_uri": "https://localhost:8080/"
        },
        "outputId": "65a375e1-af33-4b74-af64-30c3f472375c"
      },
      "execution_count": 68,
      "outputs": [
        {
          "output_type": "stream",
          "name": "stdout",
          "text": [
            "{'Animal': 'Lion', 'Bird': 'Parrot', 'Reptile': 'Cobra', 'Mammals': 'Human'}\n"
          ]
        }
      ]
    },
    {
      "cell_type": "markdown",
      "source": [
        "Or with tuples"
      ],
      "metadata": {
        "id": "wnHBM8MM2Oca"
      }
    },
    {
      "cell_type": "code",
      "source": [
        "# define list with tuples\n",
        "Tuples = [(1 , \"Integer\"), (2.0 , \"Decimal\"), (\"Lion\" , \"Animal\"),(\"Parrot\" , \"Bird\")]\n",
        "\n",
        "# pass list of tuples to the dict constructor\n",
        "My_dict = dict(Tuples)\n",
        "\n",
        "print(My_dict)"
      ],
      "metadata": {
        "id": "Vp-WXbtl2Q6h",
        "colab": {
          "base_uri": "https://localhost:8080/"
        },
        "outputId": "a16bedcc-1e2e-4b21-a577-773b8f49943c"
      },
      "execution_count": 69,
      "outputs": [
        {
          "output_type": "stream",
          "name": "stdout",
          "text": [
            "{1: 'Integer', 2.0: 'Decimal', 'Lion': 'Animal', 'Parrot': 'Bird'}\n"
          ]
        }
      ]
    },
    {
      "cell_type": "markdown",
      "source": [
        "There are several other ways to initialize a dictionary. [Read more](https://www.askpython.com/python/dictionary/initialize-python-dictionary)"
      ],
      "metadata": {
        "id": "FVk0zTMQ2giI"
      }
    },
    {
      "cell_type": "markdown",
      "source": [
        "### For loops and iterables."
      ],
      "metadata": {
        "id": "qftPAhGACEBW"
      }
    },
    {
      "cell_type": "markdown",
      "source": [
        "For loops enable us to repeat an operation. Typically one will lop d over some collection of data like a list and run some operation on the data. For loops in python are applied to an iterable. Anything that can be traversed in order is iterablea nd examples include Lists, tuples, dictionaries, sets, strings, and range objects."
      ],
      "metadata": {
        "id": "2GNzGk4aC_Mz"
      }
    },
    {
      "cell_type": "markdown",
      "source": [
        "Remember our list stored in variable *numbersList*. We can loop over the list and do diffretnt things to the data.  \n",
        "The for loop syntax generally looks like   \n",
        "\n",
        "\n",
        "```\n",
        "for variable in iterable:\n",
        "  do something\n",
        "```\n",
        "\n"
      ],
      "metadata": {
        "id": "zZwnw9EeD5im"
      }
    },
    {
      "cell_type": "code",
      "source": [
        "# Loop over the list and print the numbers inside the list\n",
        "print(numbersList)\n",
        "\n",
        "for n in numbersList:\n",
        "  print(n)"
      ],
      "metadata": {
        "id": "luwXtlzIEYVS",
        "colab": {
          "base_uri": "https://localhost:8080/"
        },
        "outputId": "96c34aff-8f20-45a2-8b3a-610043255431"
      },
      "execution_count": 70,
      "outputs": [
        {
          "output_type": "stream",
          "name": "stdout",
          "text": [
            "[1, 2, 3, 4, 5, 6, 7, 8, 9, 10]\n",
            "1\n",
            "2\n",
            "3\n",
            "4\n",
            "5\n",
            "6\n",
            "7\n",
            "8\n",
            "9\n",
            "10\n"
          ]
        }
      ]
    },
    {
      "cell_type": "markdown",
      "source": [
        "Note that ***n*** is simply a variable we define for the current value (in this case the value in the list) of the element in the iterable."
      ],
      "metadata": {
        "id": "09kI-jX1E_MD"
      }
    },
    {
      "cell_type": "code",
      "source": [
        "# Loop through the list and add 1 to every number and print the output\n",
        "for n in numbersList:\n",
        "  n_plus_1 = n+1\n",
        "  print(n_plus_1)"
      ],
      "metadata": {
        "id": "gdmEyhJyFSu9",
        "colab": {
          "base_uri": "https://localhost:8080/"
        },
        "outputId": "1a3a8083-c5e2-44ed-c167-3b21663ad2ac"
      },
      "execution_count": 71,
      "outputs": [
        {
          "output_type": "stream",
          "name": "stdout",
          "text": [
            "2\n",
            "3\n",
            "4\n",
            "5\n",
            "6\n",
            "7\n",
            "8\n",
            "9\n",
            "10\n",
            "11\n"
          ]
        }
      ]
    },
    {
      "cell_type": "code",
      "source": [
        "# We can use string formatting to improve the output\n",
        "print('Original Value:\\t New Value:')\n",
        "for n in numbersList:\n",
        "  n_plus_1 = n+1\n",
        "  print(f'{n} \\t\\t {n_plus_1}')"
      ],
      "metadata": {
        "id": "0LrzF1MDFo4v",
        "colab": {
          "base_uri": "https://localhost:8080/"
        },
        "outputId": "db8ad21a-c175-4192-e3f5-a484fc017386"
      },
      "execution_count": 72,
      "outputs": [
        {
          "output_type": "stream",
          "name": "stdout",
          "text": [
            "Original Value:\t New Value:\n",
            "1 \t\t 2\n",
            "2 \t\t 3\n",
            "3 \t\t 4\n",
            "4 \t\t 5\n",
            "5 \t\t 6\n",
            "6 \t\t 7\n",
            "7 \t\t 8\n",
            "8 \t\t 9\n",
            "9 \t\t 10\n",
            "10 \t\t 11\n"
          ]
        }
      ]
    },
    {
      "cell_type": "markdown",
      "source": [
        "Let's create a new list with the original numbers in the numbersList plus 1.  \n",
        "The flow will be;\n",
        "1. Create an empty list for the new values(original value +1)\n",
        "2. Loop through the numbersList.\n",
        "3. For every number in the numbersList, add 1  to get the new value.\n",
        "4. Append the new value to the new list."
      ],
      "metadata": {
        "id": "doquccbzKOyI"
      }
    },
    {
      "cell_type": "code",
      "source": [
        "# Part 1 and 2 have already been done above.\n",
        "# Update the loop to finish steps 3 and 4\n",
        "\n",
        "# Loop through the list and add 1 to every number\n",
        "mylist =[]\n",
        "\n",
        "for n in numbersList:\n",
        "  n_plus_1 = n+1\n",
        "  mylist.append(n_plus_1)\n",
        "\n",
        "print(numbersList)\n",
        "print(mylist)\n",
        "\n",
        "mylist2 = [n + 1 for n in numbersList]\n",
        "print(mylist2)"
      ],
      "metadata": {
        "id": "yIHDl14eKNB3",
        "colab": {
          "base_uri": "https://localhost:8080/"
        },
        "outputId": "1f82c9e6-e3fb-46f3-ae97-b19089989df7"
      },
      "execution_count": 78,
      "outputs": [
        {
          "output_type": "stream",
          "name": "stdout",
          "text": [
            "[1, 2, 3, 4, 5, 6, 7, 8, 9, 10]\n",
            "[2, 3, 4, 5, 6, 7, 8, 9, 10, 11]\n",
            "[2, 3, 4, 5, 6, 7, 8, 9, 10, 11]\n"
          ]
        }
      ]
    },
    {
      "cell_type": "markdown",
      "source": [
        "### Looping with dictionaries\n",
        "Remember that dictionaries have 2 items; a key and a value.\n",
        "\n",
        "\n",
        "```\n",
        "{key1: value1, key2: value2}\n",
        "```\n",
        "\n"
      ],
      "metadata": {
        "id": "G2_7PygfLhy8"
      }
    },
    {
      "cell_type": "code",
      "source": [
        "# Run this cell to create a dictionary with room type and standard rate\n",
        "standard_dict = {'Basic': 100,\n",
        "              'Deluxe': 125,\n",
        "              'Balcony' : 200,\n",
        "              'Luxury' : 250}\n",
        "print(standard_dict)"
      ],
      "metadata": {
        "id": "aS2oIgaDMsz_",
        "colab": {
          "base_uri": "https://localhost:8080/"
        },
        "outputId": "7a51587b-f27c-4024-e479-e71af4f8d08d"
      },
      "execution_count": 79,
      "outputs": [
        {
          "output_type": "stream",
          "name": "stdout",
          "text": [
            "{'Basic': 100, 'Deluxe': 125, 'Balcony': 200, 'Luxury': 250}\n"
          ]
        }
      ]
    },
    {
      "cell_type": "code",
      "source": [
        "# We can loop through the dictionary just like the list.\n",
        "for s in standard_dict:\n",
        "  print(s)"
      ],
      "metadata": {
        "id": "eUSCFl2wMyBk",
        "colab": {
          "base_uri": "https://localhost:8080/"
        },
        "outputId": "28ac5fc2-027d-4407-d25b-3ea195321dce"
      },
      "execution_count": 80,
      "outputs": [
        {
          "output_type": "stream",
          "name": "stdout",
          "text": [
            "Basic\n",
            "Deluxe\n",
            "Balcony\n",
            "Luxury\n"
          ]
        }
      ]
    },
    {
      "cell_type": "markdown",
      "source": [
        "Note that this only returns the key in the dictionary. To access the key and values, we use a dictionary method **items()**. This will return both the key and value.\n",
        "The **dictionary.items()** method returns a tuple of the key and value which can be unpacked to 2 variables."
      ],
      "metadata": {
        "id": "oso2hu9AODJb"
      }
    },
    {
      "cell_type": "code",
      "source": [
        "# Loop through and print the tuple of the key and value\n",
        "for s in standard_dict.items():\n",
        "  print(s)"
      ],
      "metadata": {
        "id": "4-0BboQWQ2po",
        "colab": {
          "base_uri": "https://localhost:8080/"
        },
        "outputId": "b7d686c9-bfc1-4e7f-8a61-c73c470f801a"
      },
      "execution_count": 81,
      "outputs": [
        {
          "output_type": "stream",
          "name": "stdout",
          "text": [
            "('Basic', 100)\n",
            "('Deluxe', 125)\n",
            "('Balcony', 200)\n",
            "('Luxury', 250)\n"
          ]
        }
      ]
    },
    {
      "cell_type": "code",
      "source": [
        "# We can improve this further, by unpacking the tuple returned by dictionary.items()\n",
        "for key, value in standard_dict.items():\n",
        "  print(key, value)"
      ],
      "metadata": {
        "id": "RyPDV0ZnQ-os",
        "colab": {
          "base_uri": "https://localhost:8080/"
        },
        "outputId": "117175bd-d6f2-4b8a-8eb8-5b9b6b4c5d49"
      },
      "execution_count": 82,
      "outputs": [
        {
          "output_type": "stream",
          "name": "stdout",
          "text": [
            "Basic 100\n",
            "Deluxe 125\n",
            "Balcony 200\n",
            "Luxury 250\n"
          ]
        }
      ]
    },
    {
      "cell_type": "code",
      "source": [
        "# Improve output with string formatting\n",
        "for key, value in standard_dict.items():\n",
        "  print(f'A {key} room costs {value}')"
      ],
      "metadata": {
        "id": "nwrZWI_NRUp9",
        "colab": {
          "base_uri": "https://localhost:8080/"
        },
        "outputId": "8cd93da0-a041-49fe-b28f-79de54e41d92"
      },
      "execution_count": 83,
      "outputs": [
        {
          "output_type": "stream",
          "name": "stdout",
          "text": [
            "A Basic room costs 100\n",
            "A Deluxe room costs 125\n",
            "A Balcony room costs 200\n",
            "A Luxury room costs 250\n"
          ]
        }
      ]
    },
    {
      "cell_type": "markdown",
      "source": [
        "### Functions"
      ],
      "metadata": {
        "id": "aHm-IcqnaRhb"
      }
    },
    {
      "cell_type": "markdown",
      "source": [
        "- **Function**:\n",
        "    - A\"self contained\" block of code that accomplishes a specific task.\n",
        "    - e.g.:\n",
        "        - `type` function\n",
        "        - `print` function  <br>\n",
        "  You can pass data, known as parameters, into a function.  \n",
        "  A function can return data as a result using the return and yield keyword.\n",
        "    - When we want to use a function we need to add`()` and whatever variables the function needs. This is known as a function call:\n",
        "        - `print(var)`\n",
        "    \n"
      ],
      "metadata": {
        "id": "wZ5JkB8xZaOH"
      }
    },
    {
      "cell_type": "markdown",
      "source": [
        "Benefits of functions:  \n",
        "* Help to accomplish repititive tasks with less code\n",
        "* Reduce code complexity i.e. make code modular and easy to work with\n",
        "\n",
        "There are **inbuilt** functions and **user-defined** functions.  \n",
        "We have already seen examples of inbuilt functions like the **print()**, **type()** and there are others like **min()**, **max()**, **random()** among others."
      ],
      "metadata": {
        "id": "a-DpTnBgN5RJ"
      }
    },
    {
      "cell_type": "markdown",
      "source": [
        "Fucntions may return some output or not and are called with the snytax.\n",
        "\n",
        "\n",
        "```\n",
        "functionName(optional arguments)\n",
        "```\n",
        "\n"
      ],
      "metadata": {
        "id": "Xd04w2a7U6AK"
      }
    },
    {
      "cell_type": "markdown",
      "source": [
        "Checking types"
      ],
      "metadata": {
        "id": "NRYoek_lQCyF"
      }
    },
    {
      "cell_type": "code",
      "source": [
        "# strings\n",
        "bool_var = \"yes\"\n",
        "type(bool_var)"
      ],
      "metadata": {
        "id": "THKKiZ5_OlCv",
        "colab": {
          "base_uri": "https://localhost:8080/"
        },
        "outputId": "5b4b1f1d-650f-43a1-b31b-dc851d4c9b4b"
      },
      "execution_count": 88,
      "outputs": [
        {
          "output_type": "execute_result",
          "data": {
            "text/plain": [
              "str"
            ]
          },
          "metadata": {},
          "execution_count": 88
        }
      ]
    },
    {
      "cell_type": "code",
      "source": [
        "# list\n",
        "list_var = [1, 4, 'cheese', 19]\n",
        "type(list_var)"
      ],
      "metadata": {
        "id": "GyPsY86aOoF7",
        "colab": {
          "base_uri": "https://localhost:8080/"
        },
        "outputId": "31eac375-4e3f-427a-86f3-91450a55e821"
      },
      "execution_count": 89,
      "outputs": [
        {
          "output_type": "execute_result",
          "data": {
            "text/plain": [
              "list"
            ]
          },
          "metadata": {},
          "execution_count": 89
        }
      ]
    },
    {
      "cell_type": "code",
      "source": [
        "# tuples\n",
        "tuple_var = (1, 4, 'cheese', 19)\n",
        "type(tuple_var)\n"
      ],
      "metadata": {
        "id": "Om6skL9JOwBF",
        "colab": {
          "base_uri": "https://localhost:8080/"
        },
        "outputId": "6f3f749b-c8e2-4884-ea5f-9a97402c5c1a"
      },
      "execution_count": 90,
      "outputs": [
        {
          "output_type": "execute_result",
          "data": {
            "text/plain": [
              "tuple"
            ]
          },
          "metadata": {},
          "execution_count": 90
        }
      ]
    },
    {
      "cell_type": "code",
      "source": [
        "# Get the maximum using max()\n",
        "max(3,4)"
      ],
      "metadata": {
        "id": "v8QFMxMZQKTf",
        "colab": {
          "base_uri": "https://localhost:8080/"
        },
        "outputId": "5429c45a-2070-442e-83c7-d7e550235340"
      },
      "execution_count": 91,
      "outputs": [
        {
          "output_type": "execute_result",
          "data": {
            "text/plain": [
              "4"
            ]
          },
          "metadata": {},
          "execution_count": 91
        }
      ]
    },
    {
      "cell_type": "code",
      "source": [
        "# Can take more than 1 argument\n",
        "max(34,122,67,3)"
      ],
      "metadata": {
        "id": "GTiAAbkNQk7R",
        "colab": {
          "base_uri": "https://localhost:8080/"
        },
        "outputId": "51eb49d1-4e11-4d9e-dbc3-d590559140a5"
      },
      "execution_count": 92,
      "outputs": [
        {
          "output_type": "execute_result",
          "data": {
            "text/plain": [
              "122"
            ]
          },
          "metadata": {},
          "execution_count": 92
        }
      ]
    },
    {
      "cell_type": "code",
      "source": [
        "# Get the sum of a list\n",
        "sum(numbersList)"
      ],
      "metadata": {
        "id": "AxfAApL6Q5mX",
        "colab": {
          "base_uri": "https://localhost:8080/"
        },
        "outputId": "ebd24bdc-678a-4101-9168-d2c4d95a178f"
      },
      "execution_count": 93,
      "outputs": [
        {
          "output_type": "execute_result",
          "data": {
            "text/plain": [
              "55"
            ]
          },
          "metadata": {},
          "execution_count": 93
        }
      ]
    },
    {
      "cell_type": "markdown",
      "source": [
        "User defined functions.   \n",
        "Functions are defined using the keyword **def** followed by the function name and parentheses. In the parentheses, a user may add parameters or not.\n",
        "\n",
        "\n",
        "```\n",
        "user-defined-funtion-name()\n",
        "```\n",
        "or with parameters\n",
        "\n",
        "\n",
        "```\n",
        "user-defined-funtion-name(parameters)\n",
        "```\n",
        "\n",
        "\n",
        "\n",
        "\n",
        "A aparameter is a variable listed in the parenthenses of a funtion definition and is typically intended for use within the function. Parameters can be described as placeholders for arguments that will be passed to the function when it is called."
      ],
      "metadata": {
        "id": "l1aSaaG-Ui7l"
      }
    },
    {
      "cell_type": "code",
      "source": [
        "# Example function\n",
        "def some_random_function():\n",
        "  print(\"Hello, how are you?\")"
      ],
      "metadata": {
        "id": "tPENG7TXPwZ6"
      },
      "execution_count": 94,
      "outputs": []
    },
    {
      "cell_type": "code",
      "source": [
        "# Calling our funtion\n",
        "some_random_function()"
      ],
      "metadata": {
        "id": "VfdJO2QdQUeL",
        "colab": {
          "base_uri": "https://localhost:8080/"
        },
        "outputId": "1e74c1b6-275d-4419-a239-b3f0e3d96efa"
      },
      "execution_count": 95,
      "outputs": [
        {
          "output_type": "stream",
          "name": "stdout",
          "text": [
            "Hello, how are you?\n"
          ]
        }
      ]
    },
    {
      "cell_type": "code",
      "source": [
        "# Example function with parameters\n",
        "def print_my_name(name):\n",
        "    print(\"Hello \"+name+\", how are you?\")\n",
        "    # Another way to format the output"
      ],
      "metadata": {
        "id": "SD9d2n2U7iBD"
      },
      "execution_count": 96,
      "outputs": []
    },
    {
      "cell_type": "code",
      "source": [
        "# Calling the function and passing arguments\n",
        "\n",
        "print_my_name(\"Jeremy\")"
      ],
      "metadata": {
        "id": "JfI78JMZ8FCJ",
        "colab": {
          "base_uri": "https://localhost:8080/"
        },
        "outputId": "0e9b4bdb-196c-463b-e69f-8f436a8af744"
      },
      "execution_count": 97,
      "outputs": [
        {
          "output_type": "stream",
          "name": "stdout",
          "text": [
            "Hello Jeremy, how are you?\n"
          ]
        }
      ]
    },
    {
      "cell_type": "code",
      "source": [
        "# A function that returns a value\n",
        "def add_two_numbers(num_1, num_2):\n",
        "  return num_1 + num_2"
      ],
      "metadata": {
        "id": "NGmXXlu5AA7k"
      },
      "execution_count": 98,
      "outputs": []
    },
    {
      "cell_type": "code",
      "source": [
        "add_two_numbers(45,34)"
      ],
      "metadata": {
        "id": "eE0C44BTAQ17",
        "colab": {
          "base_uri": "https://localhost:8080/"
        },
        "outputId": "4bf47175-bc4c-4a84-c82e-e2b240d5c99c"
      },
      "execution_count": 99,
      "outputs": [
        {
          "output_type": "execute_result",
          "data": {
            "text/plain": [
              "79"
            ]
          },
          "metadata": {},
          "execution_count": 99
        }
      ]
    },
    {
      "cell_type": "code",
      "source": [
        "# When a function returns a value we can store it in a variable\n",
        "sum_of_two_values = add_two_numbers(45,34)\n",
        "print(sum_of_two_values)"
      ],
      "metadata": {
        "id": "g7k9PrSZAf6Z",
        "colab": {
          "base_uri": "https://localhost:8080/"
        },
        "outputId": "0e3b7a82-33db-4412-86e1-58977b775f44"
      },
      "execution_count": 100,
      "outputs": [
        {
          "output_type": "stream",
          "name": "stdout",
          "text": [
            "79\n"
          ]
        }
      ]
    },
    {
      "cell_type": "code",
      "source": [
        "# def my_name_is(name):\n",
        "#   name_is = name\n",
        "\n",
        "def my_name_is(name):\n",
        "  name_is = name\n",
        "  return name_is"
      ],
      "metadata": {
        "id": "-G018Wp0YZSs"
      },
      "execution_count": 103,
      "outputs": []
    },
    {
      "cell_type": "code",
      "source": [
        "n = my_name_is(\"Jeremy\")\n",
        "print(n)\n",
        "# What happens when it does not return a value\n",
        "# nothing is displayed"
      ],
      "metadata": {
        "id": "peokUSFyAmtc",
        "colab": {
          "base_uri": "https://localhost:8080/"
        },
        "outputId": "b892b34d-039a-4370-ca48-04b8f83f0c52"
      },
      "execution_count": 104,
      "outputs": [
        {
          "output_type": "stream",
          "name": "stdout",
          "text": [
            "Jeremy\n"
          ]
        }
      ]
    },
    {
      "cell_type": "markdown",
      "source": [
        "[Reading assignment](https://login.codingdojo.com/m/606/13775/99048): Read about positional arguments,  keyword arguments  and scope  of arguments"
      ],
      "metadata": {
        "id": "jRERzNqBYv0i"
      }
    },
    {
      "cell_type": "markdown",
      "source": [
        "### Fucntions Practise"
      ],
      "metadata": {
        "id": "trSBY3BFS2mW"
      }
    },
    {
      "cell_type": "code",
      "source": [
        "# Let us define some lists of temperatures in fahrenheit\n",
        "week_1 = [45, 55, 49, 60, 52, 55, 58]\n",
        "week_2 = [51, 49, 62, 50, 53, 56, 59]\n",
        "week_3 = [60, 60, 61, 62, 57, 59, 58]\n",
        "week_4 = [59, 63, 62, 61, 65, 66, 62]\n",
        "\n",
        "\n",
        "# List of Celsius temps\n",
        "week_5_celsius = [15, 16, 14, 19, 17, 17, 16 ]"
      ],
      "metadata": {
        "id": "wCuERLNFS7Eh"
      },
      "execution_count": 110,
      "outputs": []
    },
    {
      "cell_type": "code",
      "source": [
        "# Custom function to calculate celsius from fahrenheit\n",
        "\n",
        "\n",
        "def convert_f_to_c(f_temp):\n",
        "  # Convert Farhenheit to Celsius\n",
        "  c_temp = (f_temp - 32) * (5/9)\n",
        "  # Round Celsius to 2 decimal places\n",
        "  c_temp = round(c_temp, 2)\n",
        "  return c_temp"
      ],
      "metadata": {
        "id": "HoNsgoSiTVtf"
      },
      "execution_count": 105,
      "outputs": []
    },
    {
      "cell_type": "code",
      "source": [
        "def convert_f_to_c(f_temp):\n",
        "  # Convert Farhenheit to Celsius\n",
        "  c_temp = round(((f_temp - 32) * (5/9)), 2)\n",
        "  return c_temp"
      ],
      "metadata": {
        "id": "0Aj5x-V8dxoy"
      },
      "execution_count": 107,
      "outputs": []
    },
    {
      "cell_type": "code",
      "source": [
        "# Testing the function\n",
        "convert_f_to_c(500)"
      ],
      "metadata": {
        "id": "MYAKFZcDTX8V",
        "colab": {
          "base_uri": "https://localhost:8080/"
        },
        "outputId": "d26b3531-cc83-454b-d144-5a4f6e2317ab"
      },
      "execution_count": 108,
      "outputs": [
        {
          "output_type": "execute_result",
          "data": {
            "text/plain": [
              "260.0"
            ]
          },
          "metadata": {},
          "execution_count": 108
        }
      ]
    },
    {
      "cell_type": "markdown",
      "source": [
        "Convert the 3rd value in the week_2 list."
      ],
      "metadata": {
        "id": "3dbafoNQUQ37"
      }
    },
    {
      "cell_type": "code",
      "source": [
        "# Put answer here\n",
        "print(week_2[2])\n",
        "value = week_2[2]\n",
        "convert_f_to_c(value)"
      ],
      "metadata": {
        "id": "DvdkhEwpUVp_",
        "colab": {
          "base_uri": "https://localhost:8080/"
        },
        "outputId": "56c9d30d-09a3-4566-b772-40f5f660d3f4"
      },
      "execution_count": 114,
      "outputs": [
        {
          "output_type": "stream",
          "name": "stdout",
          "text": [
            "62\n"
          ]
        },
        {
          "output_type": "execute_result",
          "data": {
            "text/plain": [
              "16.67"
            ]
          },
          "metadata": {},
          "execution_count": 114
        }
      ]
    },
    {
      "cell_type": "markdown",
      "source": [
        "How can we convert and display all the values in the list week 1?  (Hint: use a for loop)"
      ],
      "metadata": {
        "id": "UQbUSVvdTwIj"
      }
    },
    {
      "cell_type": "code",
      "source": [
        "# Write a function that converts celsius temperatures to fahrenheit\n",
        "def convert_c_to_f(c_temp):\n",
        "  f_temp = round(((c_temp + 32) * (9/5)),2)\n",
        "  return f_temp\n",
        "\n",
        "myvalues = [convert_c_to_f(n) for n in week_1]\n",
        "print(week_1)\n",
        "print(myvalues)"
      ],
      "metadata": {
        "id": "hxmKAyPOT9JS",
        "colab": {
          "base_uri": "https://localhost:8080/"
        },
        "outputId": "fb771ff7-443e-4022-c4c5-986852eb8dbb"
      },
      "execution_count": 116,
      "outputs": [
        {
          "output_type": "stream",
          "name": "stdout",
          "text": [
            "[45, 55, 49, 60, 52, 55, 58]\n",
            "[138.6, 156.6, 145.8, 165.6, 151.2, 156.6, 162.0]\n"
          ]
        }
      ]
    },
    {
      "cell_type": "code",
      "source": [
        "# Try out re-doing the Mortgage Payment Exercise using a function that takes the pricipal, the rate and term as parameters and returns the monthly payment.\n",
        "def payment(principal, rate, term):\n",
        "  return (principal * ((rate *((1 + rate) ** term)) / (((1 + rate) ** term) - 1)))\n",
        "\n",
        "payment(400000, 0.03, 360)"
      ],
      "metadata": {
        "id": "fbfDJxPZ_w1G",
        "colab": {
          "base_uri": "https://localhost:8080/"
        },
        "outputId": "417e76d0-1e66-443b-b849-fff850229f2e"
      },
      "execution_count": 117,
      "outputs": [
        {
          "output_type": "execute_result",
          "data": {
            "text/plain": [
              "12000.286939763988"
            ]
          },
          "metadata": {},
          "execution_count": 117
        }
      ]
    },
    {
      "cell_type": "markdown",
      "source": [
        "### Acknowledgements\n",
        "Parts of this notebook were adapted from:\n",
        "\n",
        "*   https://jckantor.github.io/CBE30338/01.01-Getting-Started-with-Python-and-Jupyter-Notebooks.html\n",
        "*   https://www.pythontutorial.net/python-basics/python-comments/\n",
        "\n",
        "\n",
        "*   [W3 schools](https://www.w3schools.com/python/)\n",
        "*   [Askpython](https://www.askpython.com/python/dictionary/python-dictionary-dict-tutorial)\n",
        "\n"
      ],
      "metadata": {
        "id": "yxe3FTYlZ1G-"
      }
    },
    {
      "cell_type": "code",
      "source": [],
      "metadata": {
        "id": "nigC57ROZzR5"
      },
      "execution_count": null,
      "outputs": []
    }
  ],
  "metadata": {
    "interpreter": {
      "hash": "c15d3b161d9e31d3c14101c293414707f40e59d6cae0bbd6b708ca3d1e942f6f"
    },
    "kernelspec": {
      "display_name": "Python 3",
      "language": "python",
      "name": "python3"
    },
    "language_info": {
      "codemirror_mode": {
        "name": "ipython",
        "version": 3
      },
      "file_extension": ".py",
      "mimetype": "text/x-python",
      "name": "python",
      "nbconvert_exporter": "python",
      "pygments_lexer": "ipython3",
      "version": "3.8.5"
    },
    "toc": {
      "base_numbering": 1,
      "nav_menu": {},
      "number_sections": false,
      "sideBar": true,
      "skip_h1_title": false,
      "title_cell": "Table of Contents",
      "title_sidebar": "Contents",
      "toc_cell": false,
      "toc_position": {
        "height": "calc(100% - 180px)",
        "left": "10px",
        "top": "150px",
        "width": "256px"
      },
      "toc_section_display": true,
      "toc_window_display": false
    },
    "colab": {
      "provenance": [],
      "include_colab_link": true
    }
  },
  "nbformat": 4,
  "nbformat_minor": 0
}